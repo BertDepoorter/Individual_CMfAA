{
 "cells": [
  {
   "cell_type": "markdown",
   "id": "8e364c85-d2e0-4976-88b4-649f97d97aee",
   "metadata": {},
   "source": [
    "# Example Usage\n",
    "This notebook provides a short tutorial on using the code I wrote, explaining the various functions that are implemented. I have created 2 files, one for plotting functionality and another for the solving the Riemann problem."
   ]
  },
  {
   "cell_type": "code",
   "execution_count": 1,
   "id": "b8365974-63f2-4c7d-92ee-83062ba5b732",
   "metadata": {},
   "outputs": [],
   "source": [
    "# general imports\n",
    "import numpy as np\n",
    "import matplotlib.pyplot as plt\n",
    "\n",
    "from plotting import plotting\n",
    "from riemann import riemann"
   ]
  },
  {
   "cell_type": "markdown",
   "id": "eb39d722-e76d-44d3-a81b-eab9b6df2b81",
   "metadata": {},
   "source": [
    "## Plotting class\n",
    "In theory this is the ony class one needs, since it plots the solutions for e.g. the Hugoniot locus, the integral curves or for the final state obtained by evolving the Riemann problem for 1D isothermal hydrodynmics numerically. However, at the end of this notebook I will shortly introduce the functions that are used under the hood, to get the solutions."
   ]
  },
  {
   "cell_type": "code",
   "execution_count": 2,
   "id": "3ca96231-91f1-4215-aa58-3e6538a945a5",
   "metadata": {},
   "outputs": [
    {
     "ename": "TypeError",
     "evalue": "__init__() got multiple values for argument 'T'",
     "output_type": "error",
     "traceback": [
      "\u001b[0;31m---------------------------------------------------------------------------\u001b[0m",
      "\u001b[0;31mTypeError\u001b[0m                                 Traceback (most recent call last)",
      "Cell \u001b[0;32mIn[2], line 15\u001b[0m\n\u001b[1;32m     12\u001b[0m U_R \u001b[38;5;241m=\u001b[39m (rho_R, v_R \u001b[38;5;241m*\u001b[39m rho_R)\n\u001b[1;32m     14\u001b[0m \u001b[38;5;66;03m# Initialize plotting class\u001b[39;00m\n\u001b[0;32m---> 15\u001b[0m plots \u001b[38;5;241m=\u001b[39m \u001b[43mplotting\u001b[49m\u001b[43m(\u001b[49m\u001b[43mrho_L\u001b[49m\u001b[43m,\u001b[49m\u001b[43m \u001b[49m\u001b[43mrho_R\u001b[49m\u001b[43m,\u001b[49m\u001b[43m \u001b[49m\u001b[43mv_L\u001b[49m\u001b[43m,\u001b[49m\u001b[43m \u001b[49m\u001b[43mv_R\u001b[49m\u001b[43m,\u001b[49m\u001b[43m \u001b[49m\u001b[43mT\u001b[49m\u001b[38;5;241;43m=\u001b[39;49m\u001b[43mT\u001b[49m\u001b[43m,\u001b[49m\u001b[43m \u001b[49m\u001b[43mmu\u001b[49m\u001b[38;5;241;43m=\u001b[39;49m\u001b[43mmu\u001b[49m\u001b[43m)\u001b[49m\n",
      "\u001b[0;31mTypeError\u001b[0m: __init__() got multiple values for argument 'T'"
     ]
    }
   ],
   "source": [
    "# Initialize\n",
    "T = 2\n",
    "mu = 1\n",
    "\n",
    "# define Riemann initial conditions\n",
    "rho_L = 1.\n",
    "v_L = 0.5\n",
    "U_L = (rho_L, v_L * rho_L)\n",
    "\n",
    "rho_R = 1.\n",
    "v_R = 0.6\n",
    "U_R = (rho_R, v_R * rho_R)\n",
    "\n",
    "# Initialize plotting class\n",
    "plots = plotting(rho_L, rho_R, v_L, v_R, T=T, mu=mu)\n"
   ]
  },
  {
   "cell_type": "code",
   "execution_count": null,
   "id": "fd6bf361-2aa1-41c9-9532-83e6e2866b39",
   "metadata": {},
   "outputs": [],
   "source": []
  },
  {
   "cell_type": "code",
   "execution_count": null,
   "id": "a5fddbb2-1bc4-43f6-8d1e-db1a3fbf5b4c",
   "metadata": {},
   "outputs": [],
   "source": []
  },
  {
   "cell_type": "code",
   "execution_count": null,
   "id": "31261189-d00c-40ac-b2a8-06ae64ba8257",
   "metadata": {},
   "outputs": [],
   "source": []
  },
  {
   "cell_type": "code",
   "execution_count": null,
   "id": "4a7aa67a-a447-425f-95c6-f8b0ccb13912",
   "metadata": {},
   "outputs": [],
   "source": []
  },
  {
   "cell_type": "code",
   "execution_count": null,
   "id": "ac9dc49f-097c-4e1f-8e7f-43118eaff6a3",
   "metadata": {},
   "outputs": [],
   "source": []
  },
  {
   "cell_type": "code",
   "execution_count": null,
   "id": "45a6bddf-7b67-4f9d-8e89-02037e0f14e9",
   "metadata": {},
   "outputs": [],
   "source": []
  },
  {
   "cell_type": "code",
   "execution_count": null,
   "id": "d0fa94eb-4492-4f3e-afd7-d0f427fb7567",
   "metadata": {},
   "outputs": [],
   "source": []
  },
  {
   "cell_type": "code",
   "execution_count": null,
   "id": "08382b3e-b315-45f5-bbbb-6b2da8e4cbad",
   "metadata": {},
   "outputs": [],
   "source": []
  }
 ],
 "metadata": {
  "kernelspec": {
   "display_name": "Python 3 (ipykernel)",
   "language": "python",
   "name": "python3"
  },
  "language_info": {
   "codemirror_mode": {
    "name": "ipython",
    "version": 3
   },
   "file_extension": ".py",
   "mimetype": "text/x-python",
   "name": "python",
   "nbconvert_exporter": "python",
   "pygments_lexer": "ipython3",
   "version": "3.8.20"
  }
 },
 "nbformat": 4,
 "nbformat_minor": 5
}
