{
 "cells": [
  {
   "cell_type": "markdown",
   "id": "456981ed-2e39-4fc5-92f2-4253b29ef9bd",
   "metadata": {},
   "source": [
    "# Debugging code\n",
    "\n",
    "This notebook serves as  testbed for the code written in the separate python files. Here I test the different functions with their inputs and use possible error messages to debug. "
   ]
  },
  {
   "cell_type": "code",
   "execution_count": 3,
   "id": "c503b4ad-da6a-4b6f-b1fc-d391a1d5f60a",
   "metadata": {},
   "outputs": [
    {
     "ename": "ImportError",
     "evalue": "cannot import name 'plotting' from 'plotting' (/Users/bertdepoorter/Nextcloud/Documents/School/Universiteit/CmpMethothods Astrophysics/Individual_CMfAA/plotting.py)",
     "output_type": "error",
     "traceback": [
      "\u001b[0;31m---------------------------------------------------------------------------\u001b[0m",
      "\u001b[0;31mImportError\u001b[0m                               Traceback (most recent call last)",
      "Cell \u001b[0;32mIn[3], line 7\u001b[0m\n\u001b[1;32m      4\u001b[0m \u001b[38;5;28;01mimport\u001b[39;00m \u001b[38;5;21;01mscipy\u001b[39;00m \u001b[38;5;28;01mas\u001b[39;00m \u001b[38;5;21;01msp\u001b[39;00m\n\u001b[1;32m      6\u001b[0m \u001b[38;5;66;03m# import code\u001b[39;00m\n\u001b[0;32m----> 7\u001b[0m \u001b[38;5;28;01mfrom\u001b[39;00m \u001b[38;5;21;01mplotting\u001b[39;00m \u001b[38;5;28;01mimport\u001b[39;00m plotting\n\u001b[1;32m      8\u001b[0m \u001b[38;5;28;01mfrom\u001b[39;00m \u001b[38;5;21;01msolvers\u001b[39;00m \u001b[38;5;28;01mimport\u001b[39;00m solver\n",
      "\u001b[0;31mImportError\u001b[0m: cannot import name 'plotting' from 'plotting' (/Users/bertdepoorter/Nextcloud/Documents/School/Universiteit/CmpMethothods Astrophysics/Individual_CMfAA/plotting.py)"
     ]
    }
   ],
   "source": [
    "# General imports\n",
    "import numpy as np\n",
    "import matplotlib.pyplot as plt\n",
    "import scipy as sp\n",
    "\n",
    "# import code\n",
    "from plotting import plotting\n",
    "from solvers import solver"
   ]
  },
  {
   "cell_type": "code",
   "execution_count": null,
   "id": "d1eb65b1-31f6-46b8-9aef-1d0cf7773405",
   "metadata": {},
   "outputs": [],
   "source": []
  },
  {
   "cell_type": "markdown",
   "id": "26e54fa1-76f3-4a5b-9191-17c2028197f7",
   "metadata": {},
   "source": [
    "## Plotting class\n",
    "Here I will test the different plotting functionality I have added to this class."
   ]
  },
  {
   "cell_type": "code",
   "execution_count": null,
   "id": "44bd0041-f815-4237-892f-03cfca31be8b",
   "metadata": {},
   "outputs": [],
   "source": []
  },
  {
   "cell_type": "markdown",
   "id": "4afd7abc-352a-42fc-a107-6db5ff6753c3",
   "metadata": {},
   "source": [
    "## solver class\n",
    "This part is dedicated to testing the different solvers implemented. "
   ]
  },
  {
   "cell_type": "code",
   "execution_count": null,
   "id": "10c20279-0faa-4f43-9138-a5eb062bb0fc",
   "metadata": {},
   "outputs": [],
   "source": []
  }
 ],
 "metadata": {
  "kernelspec": {
   "display_name": "Python 3 (ipykernel)",
   "language": "python",
   "name": "python3"
  },
  "language_info": {
   "codemirror_mode": {
    "name": "ipython",
    "version": 3
   },
   "file_extension": ".py",
   "mimetype": "text/x-python",
   "name": "python",
   "nbconvert_exporter": "python",
   "pygments_lexer": "ipython3",
   "version": "3.8.20"
  }
 },
 "nbformat": 4,
 "nbformat_minor": 5
}
